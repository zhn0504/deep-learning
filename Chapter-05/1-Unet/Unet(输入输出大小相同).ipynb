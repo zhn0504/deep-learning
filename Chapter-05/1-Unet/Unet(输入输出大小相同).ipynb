{
 "cells": [
  {
   "cell_type": "code",
   "id": "initial_id",
   "metadata": {
    "collapsed": true,
    "ExecuteTime": {
     "end_time": "2025-05-08T16:58:00.032883Z",
     "start_time": "2025-05-08T16:58:00.027719Z"
    }
   },
   "source": [
    "import torch\n",
    "import torch.nn as nn\n",
    "import torch.nn.functional as F"
   ],
   "outputs": [],
   "execution_count": 3
  },
  {
   "metadata": {
    "ExecuteTime": {
     "end_time": "2025-05-08T16:58:02.598108Z",
     "start_time": "2025-05-08T16:58:02.586900Z"
    }
   },
   "cell_type": "code",
   "source": [
    "# 改动: padding=1 -> padding=0\n",
    "class DoubleConv(nn.Module):\n",
    "    def __init__(self, in_ch, out_ch):\n",
    "        super().__init__()\n",
    "        self.double_conv = nn.Sequential(\n",
    "            nn.Conv2d(in_ch, out_ch, kernel_size=3, padding=1),\n",
    "            nn.BatchNorm2d(out_ch),\n",
    "            nn.ReLU(inplace=True),\n",
    "            \n",
    "            nn.Conv2d(out_ch, out_ch, kernel_size=3, padding=1),\n",
    "            nn.BatchNorm2d(out_ch),\n",
    "            nn.ReLU(inplace=True),\n",
    "        )\n",
    "    def forward(self, x):\n",
    "        return self.double_conv(x)\n",
    "    \n",
    "class OutConv(nn.Module):\n",
    "    def __init__(self, in_ch, out_ch):\n",
    "        super().__init__()\n",
    "        self.conv = nn.Conv2d(in_ch, out_ch, kernel_size=1)\n",
    "    def forward(self, x):\n",
    "        return self.conv(x)"
   ],
   "id": "44fc56e4eac32b1d",
   "outputs": [],
   "execution_count": 4
  },
  {
   "metadata": {
    "ExecuteTime": {
     "end_time": "2025-05-08T17:00:23.815800Z",
     "start_time": "2025-05-08T17:00:23.801798Z"
    }
   },
   "cell_type": "code",
   "source": [
    "class Down(nn.Module):\n",
    "    def __init__(self, in_ch, out_ch):\n",
    "        super().__init__()\n",
    "        self.maxpool_conv = nn.Sequential(\n",
    "            nn.MaxPool2d(2),  \n",
    "            DoubleConv(in_ch, out_ch)  \n",
    "        )\n",
    "    def forward(self, x):\n",
    "        return self.maxpool_conv(x)\n",
    "    \n",
    "class Up(nn.Module):\n",
    "    def __init__(self, in_ch, out_ch, bilinear=True):\n",
    "        super().__init__()\n",
    "        if bilinear:\n",
    "            self.up = nn.Upsample(scale_factor=2, mode='bilinear', align_corners=True)\n",
    "        else:\n",
    "            self.up = nn.ConvTranspose2d(in_ch // 2, in_ch // 2, kernel_size=2, stride=2)\n",
    "\n",
    "        self.conv = DoubleConv(in_ch, out_ch)\n",
    "\n",
    "    def forward(self, x1, x2):\n",
    "        x1 = self.up(x1)\n",
    "        # 对上采样后的特征图进行padding以适应拼接\n",
    "        diffY = x2.size()[2] - x1.size()[2]\n",
    "        diffX = x2.size()[3] - x1.size()[3]\n",
    "        \n",
    "        #与原版不同, 这里是x1适应x2的大小, x1的尺寸变大了\n",
    "        x1 = F.pad(x1, [diffX // 2, diffX - diffX // 2, diffY // 2, diffY - diffY // 2])\n",
    "        \n",
    "        x = torch.cat([x2, x1], dim=1)\n",
    "        return self.conv(x)"
   ],
   "id": "e0c8759468e7a65c",
   "outputs": [],
   "execution_count": 5
  },
  {
   "metadata": {
    "ExecuteTime": {
     "end_time": "2025-05-08T17:01:20.975256Z",
     "start_time": "2025-05-08T17:01:19.272964Z"
    }
   },
   "cell_type": "code",
   "source": [
    "class UNet(nn.Module):\n",
    "    def __init__(self, n_channels, n_classes, bilinear=True):\n",
    "        super().__init__()\n",
    "        self.n_channels = n_channels\n",
    "        self.n_classes = n_classes\n",
    "        self.bilinear = bilinear\n",
    "\n",
    "        self.inc = DoubleConv(n_channels, 64)\n",
    "        self.down1 = Down(64, 128)\n",
    "        self.down2 = Down(128, 256)\n",
    "        self.down3 = Down(256, 512)\n",
    "        self.down4 = Down(512, 1024)\n",
    "\n",
    "        self.up1 = Up(1024 + 512, 512, bilinear)\n",
    "        self.up2 = Up(512 + 256, 256, bilinear)\n",
    "        self.up3 = Up(256 + 128, 128, bilinear)\n",
    "        self.up4 = Up(128 + 64, 64, bilinear)\n",
    "\n",
    "        self.outc = OutConv(64, n_classes)\n",
    "\n",
    "    def forward(self, x):\n",
    "        print(x.shape)\n",
    "        \n",
    "        x1 = self.inc(x)     # 64\n",
    "        print(x1.shape)\n",
    "        \n",
    "        x2 = self.down1(x1)  # 128\n",
    "        print(x2.shape)\n",
    "        \n",
    "        x3 = self.down2(x2)  # 256\n",
    "        print(x3.shape)\n",
    "        \n",
    "        x4 = self.down3(x3)  # 512\n",
    "        print(x4.shape)\n",
    "        \n",
    "        x5 = self.down4(x4)  # 1024\n",
    "        print(x5.shape)\n",
    "        print(\"====\"*20)\n",
    "\n",
    "        x = self.up1(x5, x4) # 512\n",
    "        print(x5.shape, x4.shape)\n",
    "        \n",
    "        x = self.up2(x, x3)  # 256\n",
    "        print(x.shape, x3.shape)\n",
    "\n",
    "        x = self.up3(x, x2)  # 128\n",
    "        print(x.shape, x1.shape)\n",
    "        \n",
    "        x = self.up4(x, x1)  # 64\n",
    "        print(x.shape, x1.shape)\n",
    "        \n",
    "        logits = self.outc(x)\n",
    "        return logits\n",
    "\n",
    "model = UNet(n_channels=1, n_classes=1)  # 单通道输入，单通道输出（二分类）\n",
    "input_tensor = torch.randn((1, 1, 572, 572))  # 示例输入（B, C, H, W）\n",
    "output = model(input_tensor)\n",
    "\n",
    "print(output.shape)   "
   ],
   "id": "2a14442cb29373e2",
   "outputs": [
    {
     "name": "stdout",
     "output_type": "stream",
     "text": [
      "torch.Size([1, 1, 572, 572])\n",
      "torch.Size([1, 64, 572, 572])\n",
      "torch.Size([1, 128, 286, 286])\n",
      "torch.Size([1, 256, 143, 143])\n",
      "torch.Size([1, 512, 71, 71])\n",
      "torch.Size([1, 1024, 35, 35])\n",
      "================================================================================\n",
      "torch.Size([1, 1024, 35, 35]) torch.Size([1, 512, 71, 71])\n",
      "torch.Size([1, 256, 143, 143]) torch.Size([1, 256, 143, 143])\n",
      "torch.Size([1, 128, 286, 286]) torch.Size([1, 64, 572, 572])\n",
      "torch.Size([1, 64, 572, 572]) torch.Size([1, 64, 572, 572])\n",
      "torch.Size([1, 1, 572, 572])\n"
     ]
    }
   ],
   "execution_count": 6
  },
  {
   "metadata": {},
   "cell_type": "code",
   "outputs": [],
   "execution_count": null,
   "source": "",
   "id": "7d89dc86c468bdb1"
  }
 ],
 "metadata": {
  "kernelspec": {
   "display_name": "Python 3",
   "language": "python",
   "name": "python3"
  },
  "language_info": {
   "codemirror_mode": {
    "name": "ipython",
    "version": 2
   },
   "file_extension": ".py",
   "mimetype": "text/x-python",
   "name": "python",
   "nbconvert_exporter": "python",
   "pygments_lexer": "ipython2",
   "version": "2.7.6"
  }
 },
 "nbformat": 4,
 "nbformat_minor": 5
}
